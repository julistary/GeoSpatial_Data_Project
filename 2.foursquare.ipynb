{
 "cells": [
  {
   "cell_type": "markdown",
   "id": "221cf0a0",
   "metadata": {},
   "source": [
    "# Getting some data from `foursquare` (preparation for the second filter) 📌"
   ]
  },
  {
   "cell_type": "markdown",
   "id": "fffc4959",
   "metadata": {},
   "source": [
    "<img width=300 src=https://static8.depositphotos.com/1394326/908/i/950/depositphotos_9087279-stock-photo-planning-with-pushpins.jpg>\n"
   ]
  },
  {
   "cell_type": "markdown",
   "id": "d59e066e",
   "metadata": {},
   "source": [
    "### Importing libraries"
   ]
  },
  {
   "cell_type": "code",
   "execution_count": 1,
   "id": "3043b8f2",
   "metadata": {
    "scrolled": true
   },
   "outputs": [
    {
     "data": {
      "text/plain": [
       "True"
      ]
     },
     "execution_count": 1,
     "metadata": {},
     "output_type": "execute_result"
    }
   ],
   "source": [
    "import requests\n",
    "import json\n",
    "from dotenv import load_dotenv\n",
    "import os\n",
    "import pandas as pd\n",
    "import geopandas\n",
    "import src.foursquares as fs\n",
    "load_dotenv()"
   ]
  },
  {
   "cell_type": "markdown",
   "id": "9e7c3740",
   "metadata": {},
   "source": [
    "### Getting data from foursquare"
   ]
  },
  {
   "cell_type": "markdown",
   "id": "13e863b8",
   "metadata": {},
   "source": [
    "**We want to know the locations of certain places in the chosen cities:**"
   ]
  },
  {
   "cell_type": "code",
   "execution_count": 2,
   "id": "8a1aebdc",
   "metadata": {},
   "outputs": [],
   "source": [
    "san_francisco = {'type': 'Point', 'coordinates': [37.773972, -122.431297]}\n",
    "london = {'type': 'Point', 'coordinates': [51.509865, -0.118092]}\n",
    "new_york = {'type': 'Point', 'coordinates': [40.730610, -73.935242]}"
   ]
  },
  {
   "cell_type": "markdown",
   "id": "088717ca",
   "metadata": {},
   "source": [
    "#### 1. The schools 🎓"
   ]
  },
  {
   "cell_type": "code",
   "execution_count": 3,
   "id": "2c0e9531",
   "metadata": {},
   "outputs": [],
   "source": [
    "schools_of_london = fs.f_call(london,'school')\n",
    "schools_of_sf = fs.f_call(san_francisco,'school')\n",
    "schools_of_ny = fs.f_call(new_york, 'school')"
   ]
  },
  {
   "cell_type": "markdown",
   "id": "4ba61be5",
   "metadata": {},
   "source": [
    "**2. The starbucks 🧜🏽‍♀️☕️**"
   ]
  },
  {
   "cell_type": "code",
   "execution_count": 4,
   "id": "3a258a6e",
   "metadata": {},
   "outputs": [],
   "source": [
    "starbucks_of_london = fs.f_call(london, 'starbucks')\n",
    "starbucks_of_sf = fs.f_call(san_francisco, 'starbucks')\n",
    "starbucks_of_ny = fs.f_call(new_york, 'starbucks')"
   ]
  },
  {
   "cell_type": "markdown",
   "id": "c09ff91c",
   "metadata": {},
   "source": [
    "**3. The clubs 🥂**"
   ]
  },
  {
   "cell_type": "code",
   "execution_count": 5,
   "id": "bda9d43a",
   "metadata": {},
   "outputs": [],
   "source": [
    "party_of_london = fs.f_call(london, 'party')\n",
    "party_of_sf = fs.f_call(san_francisco, 'party')\n",
    "party_of_ny = fs.f_call(new_york, 'party')"
   ]
  },
  {
   "cell_type": "markdown",
   "id": "42cb835d",
   "metadata": {},
   "source": [
    "**4. The vegans 🥑**"
   ]
  },
  {
   "cell_type": "code",
   "execution_count": 6,
   "id": "141a37e4",
   "metadata": {},
   "outputs": [],
   "source": [
    "vegan_of_london = fs.f_call(london, 'vegan')\n",
    "vegan_of_sf = fs.f_call(san_francisco, 'vegan')\n",
    "vegan_of_ny = fs.f_call(new_york, 'vegan')"
   ]
  },
  {
   "cell_type": "markdown",
   "id": "311d4451",
   "metadata": {},
   "source": [
    "**5. The basketball stadium 🏀**"
   ]
  },
  {
   "cell_type": "code",
   "execution_count": 7,
   "id": "ddf65387",
   "metadata": {},
   "outputs": [],
   "source": [
    "basket_of_london = fs.f_call(london, 'basketball stadium')\n",
    "basket_of_sf = fs.f_call(san_francisco, 'basketball stadium')\n",
    "basket_of_ny = fs.f_call(new_york, 'basketball stadium')"
   ]
  },
  {
   "cell_type": "markdown",
   "id": "429080c4",
   "metadata": {},
   "source": [
    "### Creating dataframes with that data"
   ]
  },
  {
   "cell_type": "code",
   "execution_count": 8,
   "id": "1b9693be",
   "metadata": {},
   "outputs": [],
   "source": [
    "df_schools_london = fs.call_to_df(schools_of_london)\n",
    "df_schools_sf = fs.call_to_df(schools_of_sf)\n",
    "df_schools_ny = fs.call_to_df(schools_of_ny)"
   ]
  },
  {
   "cell_type": "code",
   "execution_count": 9,
   "id": "47126262",
   "metadata": {},
   "outputs": [],
   "source": [
    "df_starbucks_london = fs.call_to_df(starbucks_of_london)\n",
    "df_starbucks_sf = fs.call_to_df(starbucks_of_sf)\n",
    "df_starbucks_ny = fs.call_to_df(starbucks_of_ny)"
   ]
  },
  {
   "cell_type": "code",
   "execution_count": 10,
   "id": "66182892",
   "metadata": {},
   "outputs": [],
   "source": [
    "df_party_london = fs.call_to_df(party_of_london)\n",
    "df_party_sf = fs.call_to_df(party_of_sf)\n",
    "df_party_ny = fs.call_to_df(party_of_ny)"
   ]
  },
  {
   "cell_type": "code",
   "execution_count": 11,
   "id": "82b7d242",
   "metadata": {},
   "outputs": [],
   "source": [
    "df_vegan_london = fs.call_to_df(vegan_of_london)\n",
    "df_vegan_sf = fs.call_to_df(vegan_of_sf)\n",
    "df_vegan_ny = fs.call_to_df(vegan_of_ny)"
   ]
  },
  {
   "cell_type": "code",
   "execution_count": 12,
   "id": "0a25ab94",
   "metadata": {},
   "outputs": [],
   "source": [
    "df_basket_london = fs.call_to_df(basket_of_london)\n",
    "df_basket_sf = fs.call_to_df(basket_of_sf)\n",
    "df_basket_ny = fs.call_to_df(basket_of_ny)"
   ]
  },
  {
   "cell_type": "code",
   "execution_count": 13,
   "id": "5d33d65f",
   "metadata": {},
   "outputs": [],
   "source": [
    "df_schools_london['place'] = 'school'\n",
    "df_schools_sf['place'] = 'school'\n",
    "df_schools_ny['place'] = 'school'\n",
    "\n",
    "df_starbucks_london['place'] = 'starbucks'\n",
    "df_starbucks_sf['place'] = 'starbucks'\n",
    "df_starbucks_ny['place'] = 'starbucks'\n",
    "\n",
    "df_party_london['place'] = 'party'\n",
    "df_party_sf['place'] = 'party'\n",
    "df_party_ny['place'] = 'party'\n",
    "\n",
    "df_vegan_london['place'] = 'vegan'\n",
    "df_vegan_sf['place'] = 'vegan'\n",
    "df_vegan_ny['place'] = 'vegan'\n",
    "\n",
    "df_basket_london['place'] = 'basket'\n",
    "df_basket_sf['place'] = 'basket'\n",
    "df_basket_ny['place'] = 'basket'"
   ]
  },
  {
   "cell_type": "code",
   "execution_count": 14,
   "id": "845bdcbf",
   "metadata": {},
   "outputs": [
    {
     "data": {
      "text/html": [
       "<div>\n",
       "<style scoped>\n",
       "    .dataframe tbody tr th:only-of-type {\n",
       "        vertical-align: middle;\n",
       "    }\n",
       "\n",
       "    .dataframe tbody tr th {\n",
       "        vertical-align: top;\n",
       "    }\n",
       "\n",
       "    .dataframe thead th {\n",
       "        text-align: right;\n",
       "    }\n",
       "</style>\n",
       "<table border=\"1\" class=\"dataframe\">\n",
       "  <thead>\n",
       "    <tr style=\"text-align: right;\">\n",
       "      <th></th>\n",
       "      <th>name</th>\n",
       "      <th>location</th>\n",
       "      <th>place</th>\n",
       "    </tr>\n",
       "  </thead>\n",
       "  <tbody>\n",
       "    <tr>\n",
       "      <th>0</th>\n",
       "      <td>One to One English School</td>\n",
       "      <td>{'type': 'Point', 'coordinates': [-0.123550510...</td>\n",
       "      <td>school</td>\n",
       "    </tr>\n",
       "    <tr>\n",
       "      <th>1</th>\n",
       "      <td>International House London</td>\n",
       "      <td>{'type': 'Point', 'coordinates': [-0.123061307...</td>\n",
       "      <td>school</td>\n",
       "    </tr>\n",
       "    <tr>\n",
       "      <th>2</th>\n",
       "      <td>Avalon School</td>\n",
       "      <td>{'type': 'Point', 'coordinates': [-0.129540819...</td>\n",
       "      <td>school</td>\n",
       "    </tr>\n",
       "    <tr>\n",
       "      <th>3</th>\n",
       "      <td>Royal Ballet School</td>\n",
       "      <td>{'type': 'Point', 'coordinates': [-0.122196656...</td>\n",
       "      <td>school</td>\n",
       "    </tr>\n",
       "    <tr>\n",
       "      <th>4</th>\n",
       "      <td>Mayfair School of English</td>\n",
       "      <td>{'type': 'Point', 'coordinates': [-0.134547351...</td>\n",
       "      <td>school</td>\n",
       "    </tr>\n",
       "  </tbody>\n",
       "</table>\n",
       "</div>"
      ],
      "text/plain": [
       "                         name  \\\n",
       "0   One to One English School   \n",
       "1  International House London   \n",
       "2               Avalon School   \n",
       "3         Royal Ballet School   \n",
       "4   Mayfair School of English   \n",
       "\n",
       "                                            location   place  \n",
       "0  {'type': 'Point', 'coordinates': [-0.123550510...  school  \n",
       "1  {'type': 'Point', 'coordinates': [-0.123061307...  school  \n",
       "2  {'type': 'Point', 'coordinates': [-0.129540819...  school  \n",
       "3  {'type': 'Point', 'coordinates': [-0.122196656...  school  \n",
       "4  {'type': 'Point', 'coordinates': [-0.134547351...  school  "
      ]
     },
     "execution_count": 14,
     "metadata": {},
     "output_type": "execute_result"
    }
   ],
   "source": [
    "df_schools_london.head(5)"
   ]
  },
  {
   "cell_type": "markdown",
   "id": "bb660f1b",
   "metadata": {},
   "source": [
    "### Exporting jsons"
   ]
  },
  {
   "cell_type": "code",
   "execution_count": 15,
   "id": "b0a72152",
   "metadata": {},
   "outputs": [],
   "source": [
    "df_schools_london.to_json(\"json/schools_lnd.json\", orient=\"records\")\n",
    "df_schools_ny.to_json(\"json/schools_ny.json\", orient=\"records\")\n",
    "df_schools_sf.to_json(\"json/schools_sf.json\", orient=\"records\")\n",
    "\n",
    "df_starbucks_london.to_json(\"json/starbucks_lnd.json\", orient=\"records\")\n",
    "df_starbucks_ny.to_json(\"json/starbucks_ny.json\", orient=\"records\")\n",
    "df_starbucks_sf.to_json(\"json/starbucks_sf.json\", orient=\"records\")\n",
    "\n",
    "df_party_london.to_json(\"json/party_lnd.json\", orient=\"records\")\n",
    "df_party_ny.to_json(\"json/party_ny.json\", orient=\"records\")\n",
    "df_party_sf.to_json(\"json/party_sf.json\", orient=\"records\")\n",
    "\n",
    "df_vegan_london.to_json(\"json/vegan_lnd.json\", orient=\"records\")\n",
    "df_vegan_ny.to_json(\"json/vegan_ny.json\", orient=\"records\")\n",
    "df_vegan_sf.to_json(\"json/vegan_sf.json\", orient=\"records\")\n",
    "\n",
    "df_basket_london.to_json(\"json/basket_lnd.json\", orient=\"records\")\n",
    "df_basket_ny.to_json(\"json/basket_ny.json\", orient=\"records\")\n",
    "df_basket_sf.to_json(\"json/basket_sf.json\", orient=\"records\")"
   ]
  },
  {
   "cell_type": "code",
   "execution_count": null,
   "id": "7a796956",
   "metadata": {},
   "outputs": [],
   "source": []
  },
  {
   "cell_type": "code",
   "execution_count": null,
   "id": "074c9057",
   "metadata": {},
   "outputs": [],
   "source": []
  },
  {
   "cell_type": "code",
   "execution_count": null,
   "id": "ae491234",
   "metadata": {},
   "outputs": [],
   "source": []
  }
 ],
 "metadata": {
  "kernelspec": {
   "display_name": "ironhack",
   "language": "python",
   "name": "ironhack"
  },
  "language_info": {
   "codemirror_mode": {
    "name": "ipython",
    "version": 3
   },
   "file_extension": ".py",
   "mimetype": "text/x-python",
   "name": "python",
   "nbconvert_exporter": "python",
   "pygments_lexer": "ipython3",
   "version": "3.8.8"
  }
 },
 "nbformat": 4,
 "nbformat_minor": 5
}
