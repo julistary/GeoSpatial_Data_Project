{
 "cells": [
  {
   "cell_type": "code",
   "execution_count": 1,
   "id": "3d555f44",
   "metadata": {
    "scrolled": true
   },
   "outputs": [
    {
     "data": {
      "text/plain": [
       "True"
      ]
     },
     "execution_count": 1,
     "metadata": {},
     "output_type": "execute_result"
    }
   ],
   "source": [
    "import requests\n",
    "import json\n",
    "from dotenv import load_dotenv\n",
    "import os\n",
    "import pandas as pd\n",
    "import geopandas\n",
    "import src.foursquares as fs\n",
    "load_dotenv()"
   ]
  },
  {
   "cell_type": "markdown",
   "id": "b4a8e90b",
   "metadata": {},
   "source": [
    "## Getting data from foursquare"
   ]
  },
  {
   "cell_type": "code",
   "execution_count": 2,
   "id": "b55407f9",
   "metadata": {},
   "outputs": [],
   "source": [
    "san_francisco = {'type': 'Point', 'coordinates': [37.773972, -122.431297]}\n",
    "london = {'type': 'Point', 'coordinates': [51.509865, -0.118092]}\n",
    "new_york = {'type': 'Point', 'coordinates': [40.730610, -73.935242]}"
   ]
  },
  {
   "cell_type": "code",
   "execution_count": 3,
   "id": "54b88a63",
   "metadata": {},
   "outputs": [],
   "source": [
    "schools_of_london = fs.f_call(london,'school')\n",
    "schools_of_sf = fs.f_call(san_francisco,'school')\n",
    "schools_of_ny = fs.f_call(new_york, 'school')"
   ]
  },
  {
   "cell_type": "code",
   "execution_count": 4,
   "id": "ae34b2f8",
   "metadata": {},
   "outputs": [],
   "source": [
    "starbucks_of_london = fs.f_call(london, 'starbucks')\n",
    "starbucks_of_sf = fs.f_call(san_francisco, 'starbucks')\n",
    "starbucks_of_ny = fs.f_call(new_york, 'starbucks')"
   ]
  },
  {
   "cell_type": "code",
   "execution_count": 5,
   "id": "31650f83",
   "metadata": {},
   "outputs": [],
   "source": [
    "party_of_london = fs.f_call(london, 'party')\n",
    "party_of_sf = fs.f_call(san_francisco, 'party')\n",
    "party_of_ny = fs.f_call(new_york, 'party')"
   ]
  },
  {
   "cell_type": "code",
   "execution_count": 6,
   "id": "5371192c",
   "metadata": {},
   "outputs": [],
   "source": [
    "vegan_of_london = fs.f_call(london, 'vegan')\n",
    "vegan_of_sf = fs.f_call(san_francisco, 'vegan')\n",
    "vegan_of_ny = fs.f_call(new_york, 'vegan')"
   ]
  },
  {
   "cell_type": "code",
   "execution_count": 7,
   "id": "ef77d43b",
   "metadata": {},
   "outputs": [],
   "source": [
    "basket_of_london = fs.f_call(london, 'basketball stadium')\n",
    "basket_of_sf = fs.f_call(san_francisco, 'basketball stadium')\n",
    "basket_of_ny = fs.f_call(new_york, 'basketball stadium')"
   ]
  },
  {
   "cell_type": "markdown",
   "id": "680cc9e1",
   "metadata": {},
   "source": [
    "## DF"
   ]
  },
  {
   "cell_type": "code",
   "execution_count": 4,
   "id": "248216a8",
   "metadata": {},
   "outputs": [],
   "source": [
    "df_schools_london = fs.call_to_df(schools_of_london)\n",
    "df_schools_sf = fs.call_to_df(schools_of_sf)\n",
    "df_schools_ny = fs.call_to_df(schools_of_ny)"
   ]
  },
  {
   "cell_type": "code",
   "execution_count": 9,
   "id": "683edeb0",
   "metadata": {},
   "outputs": [],
   "source": [
    "df_starbucks_london = fs.call_to_df(starbucks_of_london)\n",
    "df_starbucks_sf = fs.call_to_df(starbucks_of_sf)\n",
    "df_starbucks_ny = fs.call_to_df(starbucks_of_ny)"
   ]
  },
  {
   "cell_type": "code",
   "execution_count": 10,
   "id": "40479096",
   "metadata": {},
   "outputs": [],
   "source": [
    "df_party_london = fs.call_to_df(party_of_london)\n",
    "df_party_sf = fs.call_to_df(party_of_sf)\n",
    "df_party_ny = fs.call_to_df(party_of_ny)"
   ]
  },
  {
   "cell_type": "code",
   "execution_count": 11,
   "id": "1c9cd53d",
   "metadata": {},
   "outputs": [],
   "source": [
    "df_vegan_london = fs.call_to_df(vegan_of_london)\n",
    "df_vegan_sf = fs.call_to_df(vegan_of_sf)\n",
    "df_vegan_ny = fs.call_to_df(vegan_of_ny)"
   ]
  },
  {
   "cell_type": "code",
   "execution_count": 12,
   "id": "ae5f6b2e",
   "metadata": {},
   "outputs": [],
   "source": [
    "df_basket_london = fs.call_to_df(basket_of_london)\n",
    "df_basket_sf = fs.call_to_df(basket_of_sf)\n",
    "df_basket_ny = fs.call_to_df(basket_of_ny)"
   ]
  },
  {
   "cell_type": "code",
   "execution_count": 13,
   "id": "cb710005",
   "metadata": {},
   "outputs": [
    {
     "data": {
      "text/html": [
       "<div>\n",
       "<style scoped>\n",
       "    .dataframe tbody tr th:only-of-type {\n",
       "        vertical-align: middle;\n",
       "    }\n",
       "\n",
       "    .dataframe tbody tr th {\n",
       "        vertical-align: top;\n",
       "    }\n",
       "\n",
       "    .dataframe thead th {\n",
       "        text-align: right;\n",
       "    }\n",
       "</style>\n",
       "<table border=\"1\" class=\"dataframe\">\n",
       "  <thead>\n",
       "    <tr style=\"text-align: right;\">\n",
       "      <th></th>\n",
       "      <th>name</th>\n",
       "      <th>location</th>\n",
       "    </tr>\n",
       "  </thead>\n",
       "  <tbody>\n",
       "    <tr>\n",
       "      <th>0</th>\n",
       "      <td>One to One English School</td>\n",
       "      <td>{'type': 'Point', 'coordinates': [51.513728983...</td>\n",
       "    </tr>\n",
       "    <tr>\n",
       "      <th>1</th>\n",
       "      <td>International House London</td>\n",
       "      <td>{'type': 'Point', 'coordinates': [51.516051852...</td>\n",
       "    </tr>\n",
       "    <tr>\n",
       "      <th>2</th>\n",
       "      <td>Avalon School</td>\n",
       "      <td>{'type': 'Point', 'coordinates': [51.515208415...</td>\n",
       "    </tr>\n",
       "    <tr>\n",
       "      <th>3</th>\n",
       "      <td>Royal Ballet School</td>\n",
       "      <td>{'type': 'Point', 'coordinates': [51.512919050...</td>\n",
       "    </tr>\n",
       "    <tr>\n",
       "      <th>4</th>\n",
       "      <td>Mayfair School of English</td>\n",
       "      <td>{'type': 'Point', 'coordinates': [51.516081642...</td>\n",
       "    </tr>\n",
       "  </tbody>\n",
       "</table>\n",
       "</div>"
      ],
      "text/plain": [
       "                         name  \\\n",
       "0   One to One English School   \n",
       "1  International House London   \n",
       "2               Avalon School   \n",
       "3         Royal Ballet School   \n",
       "4   Mayfair School of English   \n",
       "\n",
       "                                            location  \n",
       "0  {'type': 'Point', 'coordinates': [51.513728983...  \n",
       "1  {'type': 'Point', 'coordinates': [51.516051852...  \n",
       "2  {'type': 'Point', 'coordinates': [51.515208415...  \n",
       "3  {'type': 'Point', 'coordinates': [51.512919050...  \n",
       "4  {'type': 'Point', 'coordinates': [51.516081642...  "
      ]
     },
     "execution_count": 13,
     "metadata": {},
     "output_type": "execute_result"
    }
   ],
   "source": [
    "df_schools_london.head(5)"
   ]
  },
  {
   "cell_type": "markdown",
   "id": "c7f4fa57",
   "metadata": {},
   "source": [
    "### Exporting jsons"
   ]
  },
  {
   "cell_type": "code",
   "execution_count": 14,
   "id": "f37fd430",
   "metadata": {},
   "outputs": [],
   "source": [
    "df_schools_london.to_json(\"json/schools_lnd.json\", orient=\"records\")\n",
    "df_schools_ny.to_json(\"json/schools_ny.json\", orient=\"records\")\n",
    "df_schools_sf.to_json(\"json/schools_sf.json\", orient=\"records\")\n",
    "\n",
    "df_starbucks_london.to_json(\"json/starbucks_lnd.json\", orient=\"records\")\n",
    "df_starbucks_ny.to_json(\"json/starbucks_ny.json\", orient=\"records\")\n",
    "df_starbucks_sf.to_json(\"json/starbucks_sf.json\", orient=\"records\")\n",
    "\n",
    "df_party_london.to_json(\"json/party_lnd.json\", orient=\"records\")\n",
    "df_party_ny.to_json(\"json/party_ny.json\", orient=\"records\")\n",
    "df_party_sf.to_json(\"json/party_sf.json\", orient=\"records\")\n",
    "\n",
    "df_vegan_london.to_json(\"json/vegan_lnd.json\", orient=\"records\")\n",
    "df_vegan_ny.to_json(\"json/vegan_ny.json\", orient=\"records\")\n",
    "df_vegan_sf.to_json(\"json/vegan_sf.json\", orient=\"records\")\n",
    "\n",
    "df_basket_london.to_json(\"json/basket_lnd.json\", orient=\"records\")\n",
    "df_basket_ny.to_json(\"json/basket_ny.json\", orient=\"records\")\n",
    "df_basket_sf.to_json(\"json/basket_sf.json\", orient=\"records\")"
   ]
  }
 ],
 "metadata": {
  "kernelspec": {
   "display_name": "ironhack",
   "language": "python",
   "name": "ironhack"
  },
  "language_info": {
   "codemirror_mode": {
    "name": "ipython",
    "version": 3
   },
   "file_extension": ".py",
   "mimetype": "text/x-python",
   "name": "python",
   "nbconvert_exporter": "python",
   "pygments_lexer": "ipython3",
   "version": "3.8.8"
  }
 },
 "nbformat": 4,
 "nbformat_minor": 5
}
