{
 "cells": [
  {
   "cell_type": "code",
   "execution_count": 1,
   "id": "a022de9b",
   "metadata": {},
   "outputs": [],
   "source": [
    "import pandas as pd\n",
    "import geopandas as gpd\n",
    "from keplergl import KeplerGl"
   ]
  },
  {
   "cell_type": "code",
   "execution_count": 2,
   "id": "225b60ba",
   "metadata": {},
   "outputs": [],
   "source": [
    "df = pd.read_csv('data/places.csv')"
   ]
  },
  {
   "cell_type": "code",
   "execution_count": 3,
   "id": "0220f89f",
   "metadata": {},
   "outputs": [
    {
     "data": {
      "text/html": [
       "<div>\n",
       "<style scoped>\n",
       "    .dataframe tbody tr th:only-of-type {\n",
       "        vertical-align: middle;\n",
       "    }\n",
       "\n",
       "    .dataframe tbody tr th {\n",
       "        vertical-align: top;\n",
       "    }\n",
       "\n",
       "    .dataframe thead th {\n",
       "        text-align: right;\n",
       "    }\n",
       "</style>\n",
       "<table border=\"1\" class=\"dataframe\">\n",
       "  <thead>\n",
       "    <tr style=\"text-align: right;\">\n",
       "      <th></th>\n",
       "      <th>Unnamed: 0</th>\n",
       "      <th>name</th>\n",
       "      <th>location</th>\n",
       "      <th>place</th>\n",
       "      <th>coordinates</th>\n",
       "      <th>latitude</th>\n",
       "      <th>longitude</th>\n",
       "    </tr>\n",
       "  </thead>\n",
       "  <tbody>\n",
       "    <tr>\n",
       "      <th>0</th>\n",
       "      <td>0</td>\n",
       "      <td>Starbucks</td>\n",
       "      <td>{'type': 'Point', 'coordinates': [-0.139154, 5...</td>\n",
       "      <td>starbucks</td>\n",
       "      <td>[51.510288, -0.139154]</td>\n",
       "      <td>51.510288</td>\n",
       "      <td>-0.139154</td>\n",
       "    </tr>\n",
       "    <tr>\n",
       "      <th>1</th>\n",
       "      <td>1</td>\n",
       "      <td>The Cuckoo Club</td>\n",
       "      <td>{'type': 'Point', 'coordinates': [-0.137770716...</td>\n",
       "      <td>party</td>\n",
       "      <td>[51.5099619985, -0.1377707164]</td>\n",
       "      <td>51.509962</td>\n",
       "      <td>-0.137771</td>\n",
       "    </tr>\n",
       "    <tr>\n",
       "      <th>2</th>\n",
       "      <td>2</td>\n",
       "      <td>Tramp</td>\n",
       "      <td>{'type': 'Point', 'coordinates': [-0.137835548...</td>\n",
       "      <td>party</td>\n",
       "      <td>[51.5083318933, -0.1378355488]</td>\n",
       "      <td>51.508332</td>\n",
       "      <td>-0.137836</td>\n",
       "    </tr>\n",
       "    <tr>\n",
       "      <th>3</th>\n",
       "      <td>3</td>\n",
       "      <td>Malvern House Picadilly Centre</td>\n",
       "      <td>{'type': 'Point', 'coordinates': [-0.134370783...</td>\n",
       "      <td>school</td>\n",
       "      <td>[51.5101933333, -0.1343707833]</td>\n",
       "      <td>51.510193</td>\n",
       "      <td>-0.134371</td>\n",
       "    </tr>\n",
       "    <tr>\n",
       "      <th>4</th>\n",
       "      <td>4</td>\n",
       "      <td>Starbucks</td>\n",
       "      <td>{'type': 'Point', 'coordinates': [-0.139378, 5...</td>\n",
       "      <td>starbucks</td>\n",
       "      <td>[51.513952, -0.139378]</td>\n",
       "      <td>51.513952</td>\n",
       "      <td>-0.139378</td>\n",
       "    </tr>\n",
       "  </tbody>\n",
       "</table>\n",
       "</div>"
      ],
      "text/plain": [
       "   Unnamed: 0                            name  \\\n",
       "0           0                       Starbucks   \n",
       "1           1                 The Cuckoo Club   \n",
       "2           2                           Tramp   \n",
       "3           3  Malvern House Picadilly Centre   \n",
       "4           4                       Starbucks   \n",
       "\n",
       "                                            location      place  \\\n",
       "0  {'type': 'Point', 'coordinates': [-0.139154, 5...  starbucks   \n",
       "1  {'type': 'Point', 'coordinates': [-0.137770716...      party   \n",
       "2  {'type': 'Point', 'coordinates': [-0.137835548...      party   \n",
       "3  {'type': 'Point', 'coordinates': [-0.134370783...     school   \n",
       "4  {'type': 'Point', 'coordinates': [-0.139378, 5...  starbucks   \n",
       "\n",
       "                      coordinates   latitude  longitude  \n",
       "0          [51.510288, -0.139154]  51.510288  -0.139154  \n",
       "1  [51.5099619985, -0.1377707164]  51.509962  -0.137771  \n",
       "2  [51.5083318933, -0.1378355488]  51.508332  -0.137836  \n",
       "3  [51.5101933333, -0.1343707833]  51.510193  -0.134371  \n",
       "4          [51.513952, -0.139378]  51.513952  -0.139378  "
      ]
     },
     "execution_count": 3,
     "metadata": {},
     "output_type": "execute_result"
    }
   ],
   "source": [
    "df.head()"
   ]
  },
  {
   "cell_type": "code",
   "execution_count": 4,
   "id": "fbe56339",
   "metadata": {},
   "outputs": [
    {
     "data": {
      "text/plain": [
       "Unnamed: 0       int64\n",
       "name            object\n",
       "location        object\n",
       "place           object\n",
       "coordinates     object\n",
       "latitude       float64\n",
       "longitude      float64\n",
       "dtype: object"
      ]
     },
     "execution_count": 4,
     "metadata": {},
     "output_type": "execute_result"
    }
   ],
   "source": [
    "df.dtypes"
   ]
  },
  {
   "cell_type": "code",
   "execution_count": 5,
   "id": "505130a9",
   "metadata": {},
   "outputs": [
    {
     "name": "stdout",
     "output_type": "stream",
     "text": [
      "User Guide: https://docs.kepler.gl/docs/keplergl-jupyter\n"
     ]
    },
    {
     "data": {
      "application/vnd.jupyter.widget-view+json": {
       "model_id": "2d4b5af4716248c2b4895f01ab6cd239",
       "version_major": 2,
       "version_minor": 0
      },
      "text/plain": [
       "KeplerGl(data={'companies': {'index': [0, 1, 2, 3, 4, 5, 6, 7, 8, 9, 10, 11, 12, 13, 14, 15, 16, 17, 18, 19, 2…"
      ]
     },
     "metadata": {},
     "output_type": "display_data"
    }
   ],
   "source": [
    "map_1= KeplerGl(height=700, weight = 500)\n",
    "map_1.add_data(data=df, name='companies')\n",
    "map_1"
   ]
  },
  {
   "cell_type": "code",
   "execution_count": null,
   "id": "6bae8473",
   "metadata": {},
   "outputs": [],
   "source": []
  },
  {
   "cell_type": "code",
   "execution_count": null,
   "id": "3cd0e1b9",
   "metadata": {},
   "outputs": [],
   "source": []
  }
 ],
 "metadata": {
  "kernelspec": {
   "display_name": "ironhack",
   "language": "python",
   "name": "ironhack"
  },
  "language_info": {
   "codemirror_mode": {
    "name": "ipython",
    "version": 3
   },
   "file_extension": ".py",
   "mimetype": "text/x-python",
   "name": "python",
   "nbconvert_exporter": "python",
   "pygments_lexer": "ipython3",
   "version": "3.8.8"
  }
 },
 "nbformat": 4,
 "nbformat_minor": 5
}
