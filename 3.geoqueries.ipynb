{
 "cells": [
  {
   "cell_type": "code",
   "execution_count": 1,
   "id": "21440cd1",
   "metadata": {},
   "outputs": [],
   "source": [
    "import pandas as pd\n",
    "import requests\n",
    "import json\n",
    "from pymongo import MongoClient\n",
    "import geopandas\n",
    "conn = MongoClient(\"localhost:27017\")\n",
    "db = conn.get_database(\"ironhack\")\n",
    "from pymongo import GEOSPHERE\n",
    "import src.geoqueries as g\n",
    "import src.maps as m\n",
    "import folium\n",
    "from folium import Choropleth, Circle, Marker, Icon, Map\n",
    "from folium.plugins import HeatMap, MarkerCluster"
   ]
  },
  {
   "cell_type": "code",
   "execution_count": 2,
   "id": "93ba66ed",
   "metadata": {},
   "outputs": [],
   "source": [
    "df = pd.read_csv(\"data/df.csv\")"
   ]
  },
  {
   "cell_type": "code",
   "execution_count": 3,
   "id": "1679a993",
   "metadata": {},
   "outputs": [],
   "source": [
    "df = df.dropna()\n",
    "df.reset_index(drop=True,inplace=True)\n",
    "df.drop_duplicates(inplace=True)"
   ]
  },
  {
   "cell_type": "code",
   "execution_count": 4,
   "id": "b153aba3",
   "metadata": {},
   "outputs": [
    {
     "data": {
      "text/plain": [
       "'geometry_2dsphere'"
      ]
     },
     "execution_count": 4,
     "metadata": {},
     "output_type": "execute_result"
    }
   ],
   "source": [
    "db.preferences.create_index([(\"geometry\", GEOSPHERE)])"
   ]
  },
  {
   "cell_type": "code",
   "execution_count": 5,
   "id": "91267cd8",
   "metadata": {},
   "outputs": [],
   "source": [
    "collection = db.get_collection(\"preferences\")"
   ]
  },
  {
   "cell_type": "code",
   "execution_count": 6,
   "id": "b8785a33",
   "metadata": {},
   "outputs": [
    {
     "data": {
      "text/plain": [
       "{'_id': ObjectId('607bfae4b913636b15a4fb88'),\n",
       " 'name': 'Madison Square Garden',\n",
       " 'location': {'type': 'Point', 'coordinates': [-73.9935421944, 40.7507519651]},\n",
       " 'place': 'basket'}"
      ]
     },
     "execution_count": 6,
     "metadata": {},
     "output_type": "execute_result"
    }
   ],
   "source": [
    "collection.find_one({})"
   ]
  },
  {
   "cell_type": "code",
   "execution_count": 7,
   "id": "b3752513",
   "metadata": {},
   "outputs": [
    {
     "data": {
      "text/html": [
       "<div>\n",
       "<style scoped>\n",
       "    .dataframe tbody tr th:only-of-type {\n",
       "        vertical-align: middle;\n",
       "    }\n",
       "\n",
       "    .dataframe tbody tr th {\n",
       "        vertical-align: top;\n",
       "    }\n",
       "\n",
       "    .dataframe thead th {\n",
       "        text-align: right;\n",
       "    }\n",
       "</style>\n",
       "<table border=\"1\" class=\"dataframe\">\n",
       "  <thead>\n",
       "    <tr style=\"text-align: right;\">\n",
       "      <th></th>\n",
       "      <th>company</th>\n",
       "      <th>city</th>\n",
       "      <th>latitude</th>\n",
       "      <th>longitude</th>\n",
       "      <th>zip_code</th>\n",
       "    </tr>\n",
       "  </thead>\n",
       "  <tbody>\n",
       "    <tr>\n",
       "      <th>46</th>\n",
       "      <td>Bamboudesign</td>\n",
       "      <td>San Francisco</td>\n",
       "      <td>37.775087</td>\n",
       "      <td>-122.415199</td>\n",
       "      <td>94103</td>\n",
       "    </tr>\n",
       "    <tr>\n",
       "      <th>20</th>\n",
       "      <td>ReTel Technologies</td>\n",
       "      <td>San Francisco</td>\n",
       "      <td>41.789420</td>\n",
       "      <td>-87.596232</td>\n",
       "      <td>94105</td>\n",
       "    </tr>\n",
       "    <tr>\n",
       "      <th>9</th>\n",
       "      <td>PixelCrayons</td>\n",
       "      <td>New York</td>\n",
       "      <td>28.682042</td>\n",
       "      <td>77.087502</td>\n",
       "      <td>10003</td>\n",
       "    </tr>\n",
       "  </tbody>\n",
       "</table>\n",
       "</div>"
      ],
      "text/plain": [
       "               company           city   latitude   longitude zip_code\n",
       "46        Bamboudesign  San Francisco  37.775087 -122.415199    94103\n",
       "20  ReTel Technologies  San Francisco  41.789420  -87.596232    94105\n",
       "9         PixelCrayons       New York  28.682042   77.087502    10003"
      ]
     },
     "execution_count": 7,
     "metadata": {},
     "output_type": "execute_result"
    }
   ],
   "source": [
    "df.sample(3)"
   ]
  },
  {
   "cell_type": "code",
   "execution_count": 8,
   "id": "1a971f13",
   "metadata": {},
   "outputs": [],
   "source": [
    "lat = list(df.latitude)\n",
    "long = list(df.longitude)\n",
    "coordinates = []"
   ]
  },
  {
   "cell_type": "code",
   "execution_count": 9,
   "id": "658e632a",
   "metadata": {},
   "outputs": [],
   "source": [
    "for lt,lg in zip(lat,long):\n",
    "    coord = [lg,lt]\n",
    "    coordinates.append({\"type\": \"Point\",  \"coordinates\": coord})"
   ]
  },
  {
   "cell_type": "code",
   "execution_count": 10,
   "id": "a7e8c9af",
   "metadata": {},
   "outputs": [
    {
     "data": {
      "text/plain": [
       "{'type': 'Point', 'coordinates': [-0.107843, 51.523676]}"
      ]
     },
     "execution_count": 10,
     "metadata": {},
     "output_type": "execute_result"
    }
   ],
   "source": [
    "coordinates[6]"
   ]
  },
  {
   "cell_type": "code",
   "execution_count": 11,
   "id": "c6275ed3",
   "metadata": {},
   "outputs": [],
   "source": [
    "df['geometry'] = coordinates"
   ]
  },
  {
   "cell_type": "code",
   "execution_count": 12,
   "id": "29bb850f",
   "metadata": {},
   "outputs": [
    {
     "data": {
      "text/html": [
       "<div>\n",
       "<style scoped>\n",
       "    .dataframe tbody tr th:only-of-type {\n",
       "        vertical-align: middle;\n",
       "    }\n",
       "\n",
       "    .dataframe tbody tr th {\n",
       "        vertical-align: top;\n",
       "    }\n",
       "\n",
       "    .dataframe thead th {\n",
       "        text-align: right;\n",
       "    }\n",
       "</style>\n",
       "<table border=\"1\" class=\"dataframe\">\n",
       "  <thead>\n",
       "    <tr style=\"text-align: right;\">\n",
       "      <th></th>\n",
       "      <th>company</th>\n",
       "      <th>city</th>\n",
       "      <th>latitude</th>\n",
       "      <th>longitude</th>\n",
       "      <th>zip_code</th>\n",
       "      <th>geometry</th>\n",
       "    </tr>\n",
       "  </thead>\n",
       "  <tbody>\n",
       "    <tr>\n",
       "      <th>0</th>\n",
       "      <td>Digg</td>\n",
       "      <td>San Francisco</td>\n",
       "      <td>37.764726</td>\n",
       "      <td>-122.394523</td>\n",
       "      <td>94107</td>\n",
       "      <td>{'type': 'Point', 'coordinates': [-122.394523,...</td>\n",
       "    </tr>\n",
       "    <tr>\n",
       "      <th>1</th>\n",
       "      <td>Powerset</td>\n",
       "      <td>San Francisco</td>\n",
       "      <td>37.778613</td>\n",
       "      <td>-122.395289</td>\n",
       "      <td>94107</td>\n",
       "      <td>{'type': 'Point', 'coordinates': [-122.395289,...</td>\n",
       "    </tr>\n",
       "    <tr>\n",
       "      <th>2</th>\n",
       "      <td>CastTV</td>\n",
       "      <td>San Francisco</td>\n",
       "      <td>37.780716</td>\n",
       "      <td>-122.393913</td>\n",
       "      <td>94107</td>\n",
       "      <td>{'type': 'Point', 'coordinates': [-122.393913,...</td>\n",
       "    </tr>\n",
       "    <tr>\n",
       "      <th>3</th>\n",
       "      <td>Grockit</td>\n",
       "      <td>San Francisco</td>\n",
       "      <td>37.775196</td>\n",
       "      <td>-122.419204</td>\n",
       "      <td>94107</td>\n",
       "      <td>{'type': 'Point', 'coordinates': [-122.419204,...</td>\n",
       "    </tr>\n",
       "    <tr>\n",
       "      <th>4</th>\n",
       "      <td>Dropbox</td>\n",
       "      <td>San Francisco</td>\n",
       "      <td>37.790943</td>\n",
       "      <td>-122.408499</td>\n",
       "      <td>94107</td>\n",
       "      <td>{'type': 'Point', 'coordinates': [-122.4084994...</td>\n",
       "    </tr>\n",
       "  </tbody>\n",
       "</table>\n",
       "</div>"
      ],
      "text/plain": [
       "    company           city   latitude   longitude zip_code  \\\n",
       "0      Digg  San Francisco  37.764726 -122.394523    94107   \n",
       "1  Powerset  San Francisco  37.778613 -122.395289    94107   \n",
       "2    CastTV  San Francisco  37.780716 -122.393913    94107   \n",
       "3   Grockit  San Francisco  37.775196 -122.419204    94107   \n",
       "4   Dropbox  San Francisco  37.790943 -122.408499    94107   \n",
       "\n",
       "                                            geometry  \n",
       "0  {'type': 'Point', 'coordinates': [-122.394523,...  \n",
       "1  {'type': 'Point', 'coordinates': [-122.395289,...  \n",
       "2  {'type': 'Point', 'coordinates': [-122.393913,...  \n",
       "3  {'type': 'Point', 'coordinates': [-122.419204,...  \n",
       "4  {'type': 'Point', 'coordinates': [-122.4084994...  "
      ]
     },
     "execution_count": 12,
     "metadata": {},
     "output_type": "execute_result"
    }
   ],
   "source": [
    "df.head()"
   ]
  },
  {
   "cell_type": "markdown",
   "id": "c80fc477",
   "metadata": {},
   "source": [
    "### prueba"
   ]
  },
  {
   "cell_type": "code",
   "execution_count": 13,
   "id": "04ddff99",
   "metadata": {},
   "outputs": [],
   "source": [
    "party_counts = []\n",
    "starbucks_counts = []\n",
    "school_counts = []\n",
    "vegan_counts = []\n",
    "basket_counts = []\n",
    "for c in coordinates:\n",
    "    query = {\"location\": {\"$near\": {\"$geometry\": c, \"$maxDistance\": 2000}}}\n",
    "    list_ = list(collection.find(query))\n",
    "    party = 0\n",
    "    starbucks = 0\n",
    "    school = 0\n",
    "    vegan = 0\n",
    "    basket = 0\n",
    "    for l in list_:\n",
    "        if l['place'] == 'party':\n",
    "            party += 1\n",
    "        elif l['place'] == 'starbucks':\n",
    "            starbucks += 1\n",
    "        elif l['place'] == 'school':\n",
    "            school += 1\n",
    "        elif l['place'] == 'vegan':\n",
    "            vegan += 1\n",
    "        elif l['place'] == 'basket':\n",
    "            basket += 1\n",
    "    party_counts.append(party)\n",
    "    starbucks_counts.append(starbucks)\n",
    "    school_counts.append(school)\n",
    "    vegan_counts.append(vegan)\n",
    "    basket_counts.append(basket)"
   ]
  },
  {
   "cell_type": "code",
   "execution_count": 14,
   "id": "ff29cee0",
   "metadata": {},
   "outputs": [],
   "source": [
    "df['party'] = party_counts\n",
    "df['starbucks'] = starbucks_counts\n",
    "df['school'] = school_counts\n",
    "df['vegan'] = vegan_counts\n",
    "df['basket'] = basket_counts"
   ]
  },
  {
   "cell_type": "code",
   "execution_count": 15,
   "id": "fd9c9cf8",
   "metadata": {},
   "outputs": [
    {
     "data": {
      "text/html": [
       "<div>\n",
       "<style scoped>\n",
       "    .dataframe tbody tr th:only-of-type {\n",
       "        vertical-align: middle;\n",
       "    }\n",
       "\n",
       "    .dataframe tbody tr th {\n",
       "        vertical-align: top;\n",
       "    }\n",
       "\n",
       "    .dataframe thead th {\n",
       "        text-align: right;\n",
       "    }\n",
       "</style>\n",
       "<table border=\"1\" class=\"dataframe\">\n",
       "  <thead>\n",
       "    <tr style=\"text-align: right;\">\n",
       "      <th></th>\n",
       "      <th>company</th>\n",
       "      <th>city</th>\n",
       "      <th>latitude</th>\n",
       "      <th>longitude</th>\n",
       "      <th>zip_code</th>\n",
       "      <th>geometry</th>\n",
       "      <th>party</th>\n",
       "      <th>starbucks</th>\n",
       "      <th>school</th>\n",
       "      <th>vegan</th>\n",
       "      <th>basket</th>\n",
       "    </tr>\n",
       "  </thead>\n",
       "  <tbody>\n",
       "    <tr>\n",
       "      <th>0</th>\n",
       "      <td>Digg</td>\n",
       "      <td>San Francisco</td>\n",
       "      <td>37.764726</td>\n",
       "      <td>-122.394523</td>\n",
       "      <td>94107</td>\n",
       "      <td>{'type': 'Point', 'coordinates': [-122.394523,...</td>\n",
       "      <td>7</td>\n",
       "      <td>4</td>\n",
       "      <td>0</td>\n",
       "      <td>1</td>\n",
       "      <td>3</td>\n",
       "    </tr>\n",
       "    <tr>\n",
       "      <th>1</th>\n",
       "      <td>Powerset</td>\n",
       "      <td>San Francisco</td>\n",
       "      <td>37.778613</td>\n",
       "      <td>-122.395289</td>\n",
       "      <td>94107</td>\n",
       "      <td>{'type': 'Point', 'coordinates': [-122.395289,...</td>\n",
       "      <td>7</td>\n",
       "      <td>14</td>\n",
       "      <td>2</td>\n",
       "      <td>3</td>\n",
       "      <td>3</td>\n",
       "    </tr>\n",
       "    <tr>\n",
       "      <th>2</th>\n",
       "      <td>CastTV</td>\n",
       "      <td>San Francisco</td>\n",
       "      <td>37.780716</td>\n",
       "      <td>-122.393913</td>\n",
       "      <td>94107</td>\n",
       "      <td>{'type': 'Point', 'coordinates': [-122.393913,...</td>\n",
       "      <td>6</td>\n",
       "      <td>13</td>\n",
       "      <td>0</td>\n",
       "      <td>0</td>\n",
       "      <td>3</td>\n",
       "    </tr>\n",
       "    <tr>\n",
       "      <th>3</th>\n",
       "      <td>Grockit</td>\n",
       "      <td>San Francisco</td>\n",
       "      <td>37.775196</td>\n",
       "      <td>-122.419204</td>\n",
       "      <td>94107</td>\n",
       "      <td>{'type': 'Point', 'coordinates': [-122.419204,...</td>\n",
       "      <td>30</td>\n",
       "      <td>15</td>\n",
       "      <td>28</td>\n",
       "      <td>25</td>\n",
       "      <td>0</td>\n",
       "    </tr>\n",
       "    <tr>\n",
       "      <th>4</th>\n",
       "      <td>Dropbox</td>\n",
       "      <td>San Francisco</td>\n",
       "      <td>37.790943</td>\n",
       "      <td>-122.408499</td>\n",
       "      <td>94107</td>\n",
       "      <td>{'type': 'Point', 'coordinates': [-122.4084994...</td>\n",
       "      <td>8</td>\n",
       "      <td>14</td>\n",
       "      <td>7</td>\n",
       "      <td>5</td>\n",
       "      <td>0</td>\n",
       "    </tr>\n",
       "  </tbody>\n",
       "</table>\n",
       "</div>"
      ],
      "text/plain": [
       "    company           city   latitude   longitude zip_code  \\\n",
       "0      Digg  San Francisco  37.764726 -122.394523    94107   \n",
       "1  Powerset  San Francisco  37.778613 -122.395289    94107   \n",
       "2    CastTV  San Francisco  37.780716 -122.393913    94107   \n",
       "3   Grockit  San Francisco  37.775196 -122.419204    94107   \n",
       "4   Dropbox  San Francisco  37.790943 -122.408499    94107   \n",
       "\n",
       "                                            geometry  party  starbucks  \\\n",
       "0  {'type': 'Point', 'coordinates': [-122.394523,...      7          4   \n",
       "1  {'type': 'Point', 'coordinates': [-122.395289,...      7         14   \n",
       "2  {'type': 'Point', 'coordinates': [-122.393913,...      6         13   \n",
       "3  {'type': 'Point', 'coordinates': [-122.419204,...     30         15   \n",
       "4  {'type': 'Point', 'coordinates': [-122.4084994...      8         14   \n",
       "\n",
       "   school  vegan  basket  \n",
       "0       0      1       3  \n",
       "1       2      3       3  \n",
       "2       0      0       3  \n",
       "3      28     25       0  \n",
       "4       7      5       0  "
      ]
     },
     "execution_count": 15,
     "metadata": {},
     "output_type": "execute_result"
    }
   ],
   "source": [
    "df.head()"
   ]
  },
  {
   "cell_type": "code",
   "execution_count": 35,
   "id": "e1a3df46",
   "metadata": {},
   "outputs": [],
   "source": [
    "df_loc = df.drop(['geometry','zip_code'],axis=1)"
   ]
  },
  {
   "cell_type": "code",
   "execution_count": 36,
   "id": "c0f42a3f",
   "metadata": {},
   "outputs": [
    {
     "data": {
      "text/html": [
       "<div>\n",
       "<style scoped>\n",
       "    .dataframe tbody tr th:only-of-type {\n",
       "        vertical-align: middle;\n",
       "    }\n",
       "\n",
       "    .dataframe tbody tr th {\n",
       "        vertical-align: top;\n",
       "    }\n",
       "\n",
       "    .dataframe thead th {\n",
       "        text-align: right;\n",
       "    }\n",
       "</style>\n",
       "<table border=\"1\" class=\"dataframe\">\n",
       "  <thead>\n",
       "    <tr style=\"text-align: right;\">\n",
       "      <th></th>\n",
       "      <th>company</th>\n",
       "      <th>city</th>\n",
       "      <th>latitude</th>\n",
       "      <th>longitude</th>\n",
       "      <th>party</th>\n",
       "      <th>starbucks</th>\n",
       "      <th>school</th>\n",
       "      <th>vegan</th>\n",
       "      <th>basket</th>\n",
       "    </tr>\n",
       "  </thead>\n",
       "  <tbody>\n",
       "    <tr>\n",
       "      <th>0</th>\n",
       "      <td>Digg</td>\n",
       "      <td>San Francisco</td>\n",
       "      <td>37.764726</td>\n",
       "      <td>-122.394523</td>\n",
       "      <td>7</td>\n",
       "      <td>4</td>\n",
       "      <td>0</td>\n",
       "      <td>1</td>\n",
       "      <td>3</td>\n",
       "    </tr>\n",
       "    <tr>\n",
       "      <th>1</th>\n",
       "      <td>Powerset</td>\n",
       "      <td>San Francisco</td>\n",
       "      <td>37.778613</td>\n",
       "      <td>-122.395289</td>\n",
       "      <td>7</td>\n",
       "      <td>14</td>\n",
       "      <td>2</td>\n",
       "      <td>3</td>\n",
       "      <td>3</td>\n",
       "    </tr>\n",
       "    <tr>\n",
       "      <th>2</th>\n",
       "      <td>CastTV</td>\n",
       "      <td>San Francisco</td>\n",
       "      <td>37.780716</td>\n",
       "      <td>-122.393913</td>\n",
       "      <td>6</td>\n",
       "      <td>13</td>\n",
       "      <td>0</td>\n",
       "      <td>0</td>\n",
       "      <td>3</td>\n",
       "    </tr>\n",
       "    <tr>\n",
       "      <th>3</th>\n",
       "      <td>Grockit</td>\n",
       "      <td>San Francisco</td>\n",
       "      <td>37.775196</td>\n",
       "      <td>-122.419204</td>\n",
       "      <td>30</td>\n",
       "      <td>15</td>\n",
       "      <td>28</td>\n",
       "      <td>25</td>\n",
       "      <td>0</td>\n",
       "    </tr>\n",
       "    <tr>\n",
       "      <th>4</th>\n",
       "      <td>Dropbox</td>\n",
       "      <td>San Francisco</td>\n",
       "      <td>37.790943</td>\n",
       "      <td>-122.408499</td>\n",
       "      <td>8</td>\n",
       "      <td>14</td>\n",
       "      <td>7</td>\n",
       "      <td>5</td>\n",
       "      <td>0</td>\n",
       "    </tr>\n",
       "  </tbody>\n",
       "</table>\n",
       "</div>"
      ],
      "text/plain": [
       "    company           city   latitude   longitude  party  starbucks  school  \\\n",
       "0      Digg  San Francisco  37.764726 -122.394523      7          4       0   \n",
       "1  Powerset  San Francisco  37.778613 -122.395289      7         14       2   \n",
       "2    CastTV  San Francisco  37.780716 -122.393913      6         13       0   \n",
       "3   Grockit  San Francisco  37.775196 -122.419204     30         15      28   \n",
       "4   Dropbox  San Francisco  37.790943 -122.408499      8         14       7   \n",
       "\n",
       "   vegan  basket  \n",
       "0      1       3  \n",
       "1      3       3  \n",
       "2      0       3  \n",
       "3     25       0  \n",
       "4      5       0  "
      ]
     },
     "execution_count": 36,
     "metadata": {},
     "output_type": "execute_result"
    }
   ],
   "source": [
    "df_loc.head()"
   ]
  },
  {
   "cell_type": "markdown",
   "id": "f812dd14",
   "metadata": {},
   "source": [
    "### WEIGHT"
   ]
  },
  {
   "cell_type": "code",
   "execution_count": 37,
   "id": "06c2cad7",
   "metadata": {},
   "outputs": [],
   "source": [
    "weight_party = 0.25\n",
    "weight_starbucks = 0.3\n",
    "weight_basket = 0.05\n",
    "weight_school = 0.25\n",
    "weight_vegan = 0.15"
   ]
  },
  {
   "cell_type": "markdown",
   "id": "7d370894",
   "metadata": {},
   "source": [
    "### GRADES"
   ]
  },
  {
   "cell_type": "code",
   "execution_count": 38,
   "id": "1efee15c",
   "metadata": {},
   "outputs": [
    {
     "name": "stdout",
     "output_type": "stream",
     "text": [
      "30 6.416666666666667\n"
     ]
    }
   ],
   "source": [
    "max_ = df.party.max()\n",
    "mean = df.party.mean()\n",
    "print(max_, mean)"
   ]
  },
  {
   "cell_type": "markdown",
   "id": "0ba02a03",
   "metadata": {},
   "source": [
    "**PARTY GRADES**\n",
    "    \n",
    "    [0] : 0  \n",
    "    [1-8] : 1  \n",
    "    [8-20] : 2\n",
    "    [20-30] : 3"
   ]
  },
  {
   "cell_type": "code",
   "execution_count": 39,
   "id": "42237cbd",
   "metadata": {},
   "outputs": [
    {
     "name": "stdout",
     "output_type": "stream",
     "text": [
      "23 8.020833333333334\n"
     ]
    }
   ],
   "source": [
    "max_ = df.starbucks.max()\n",
    "mean = df.starbucks.mean()\n",
    "print(max_, mean)"
   ]
  },
  {
   "cell_type": "markdown",
   "id": "327f9b92",
   "metadata": {},
   "source": [
    "**STARBUCKS GRADES**\n",
    "    \n",
    "    [0] : 0  \n",
    "    [1-8] : 1  \n",
    "    [8-20] : 2\n",
    "    [20-23] : 3"
   ]
  },
  {
   "cell_type": "code",
   "execution_count": 40,
   "id": "add0d48e",
   "metadata": {},
   "outputs": [
    {
     "name": "stdout",
     "output_type": "stream",
     "text": [
      "28 5.270833333333333\n"
     ]
    }
   ],
   "source": [
    "max_ = df.school.max()\n",
    "mean = df.school.mean()\n",
    "print(max_, mean)"
   ]
  },
  {
   "cell_type": "markdown",
   "id": "afceca7b",
   "metadata": {},
   "source": [
    "**SCHOOL GRADES**\n",
    "    \n",
    "    [0] : 0  \n",
    "    [1-8] : 1  \n",
    "    [8-20] : 2\n",
    "    [20-28] : 3"
   ]
  },
  {
   "cell_type": "code",
   "execution_count": 41,
   "id": "c5757ac4",
   "metadata": {},
   "outputs": [
    {
     "name": "stdout",
     "output_type": "stream",
     "text": [
      "29 5.166666666666667\n"
     ]
    }
   ],
   "source": [
    "max_ = df.vegan.max()\n",
    "mean = df.vegan.mean()\n",
    "print(max_, mean)"
   ]
  },
  {
   "cell_type": "markdown",
   "id": "53f20d52",
   "metadata": {},
   "source": [
    "**VEGAN GRADES**\n",
    "    \n",
    "    [0] : 0  \n",
    "    [1-8] : 1  \n",
    "    [8-20] : 2\n",
    "    [20-29] : 3"
   ]
  },
  {
   "cell_type": "markdown",
   "id": "e70bd7e3",
   "metadata": {},
   "source": [
    "**BASCKET GRADES**\n",
    "    \n",
    "    [0] : 0  \n",
    "    [2] : 1  \n",
    "    [3] : 2\n",
    "    [4] : 3"
   ]
  },
  {
   "cell_type": "code",
   "execution_count": 42,
   "id": "7777c5ed",
   "metadata": {},
   "outputs": [],
   "source": [
    "df_loc['party_grades'] = df_loc[\"party\"].apply(g.grades)\n",
    "df_loc['starbucks_grades'] = df_loc[\"starbucks\"].apply(g.grades)\n",
    "df_loc['school_grades'] = df_loc[\"school\"].apply(g.grades)\n",
    "df_loc['vegan_grades'] = df_loc[\"vegan\"].apply(g.grades)\n",
    "df_loc['basket_grades'] = df_loc[\"basket\"]"
   ]
  },
  {
   "cell_type": "code",
   "execution_count": 43,
   "id": "59f8b53e",
   "metadata": {},
   "outputs": [],
   "source": [
    "df_loc['weighted_party_grades'] = df_loc.apply(lambda row: row['party_grades']*weight_party, axis = 1)\n",
    "df_loc['weighted_starbucks_grades'] = df_loc.apply(lambda row: row['starbucks_grades']*weight_party, axis = 1)\n",
    "df_loc['weighted_school_grades'] = df_loc.apply(lambda row: row['school_grades']*weight_party, axis = 1)\n",
    "df_loc['weighted_vegan_grades'] = df_loc.apply(lambda row: row['vegan_grades']*weight_party, axis = 1)\n",
    "df_loc['weighted_basket_grades'] = df_loc.apply(lambda row: row['basket_grades']*weight_party, axis = 1)"
   ]
  },
  {
   "cell_type": "code",
   "execution_count": 44,
   "id": "fa4afce2",
   "metadata": {},
   "outputs": [],
   "source": [
    "df_loc['weighted_result'] =  df_loc.apply(lambda row: row['weighted_party_grades'] \n",
    "                                          + row['weighted_basket_grades']\n",
    "                                          + row['weighted_starbucks_grades']\n",
    "                                          + row['weighted_school_grades'] \n",
    "                                          + row['weighted_vegan_grades'],\n",
    "                                          axis = 1)"
   ]
  },
  {
   "cell_type": "code",
   "execution_count": 45,
   "id": "493a5e41",
   "metadata": {},
   "outputs": [
    {
     "data": {
      "text/html": [
       "<div>\n",
       "<style scoped>\n",
       "    .dataframe tbody tr th:only-of-type {\n",
       "        vertical-align: middle;\n",
       "    }\n",
       "\n",
       "    .dataframe tbody tr th {\n",
       "        vertical-align: top;\n",
       "    }\n",
       "\n",
       "    .dataframe thead th {\n",
       "        text-align: right;\n",
       "    }\n",
       "</style>\n",
       "<table border=\"1\" class=\"dataframe\">\n",
       "  <thead>\n",
       "    <tr style=\"text-align: right;\">\n",
       "      <th></th>\n",
       "      <th>company</th>\n",
       "      <th>city</th>\n",
       "      <th>latitude</th>\n",
       "      <th>longitude</th>\n",
       "      <th>party</th>\n",
       "      <th>starbucks</th>\n",
       "      <th>school</th>\n",
       "      <th>vegan</th>\n",
       "      <th>basket</th>\n",
       "      <th>party_grades</th>\n",
       "      <th>starbucks_grades</th>\n",
       "      <th>school_grades</th>\n",
       "      <th>vegan_grades</th>\n",
       "      <th>basket_grades</th>\n",
       "      <th>weighted_party_grades</th>\n",
       "      <th>weighted_starbucks_grades</th>\n",
       "      <th>weighted_school_grades</th>\n",
       "      <th>weighted_vegan_grades</th>\n",
       "      <th>weighted_basket_grades</th>\n",
       "      <th>weighted_result</th>\n",
       "    </tr>\n",
       "  </thead>\n",
       "  <tbody>\n",
       "    <tr>\n",
       "      <th>0</th>\n",
       "      <td>Digg</td>\n",
       "      <td>San Francisco</td>\n",
       "      <td>37.764726</td>\n",
       "      <td>-122.394523</td>\n",
       "      <td>7</td>\n",
       "      <td>4</td>\n",
       "      <td>0</td>\n",
       "      <td>1</td>\n",
       "      <td>3</td>\n",
       "      <td>1</td>\n",
       "      <td>1</td>\n",
       "      <td>0</td>\n",
       "      <td>1</td>\n",
       "      <td>3</td>\n",
       "      <td>0.25</td>\n",
       "      <td>0.25</td>\n",
       "      <td>0.00</td>\n",
       "      <td>0.25</td>\n",
       "      <td>0.75</td>\n",
       "      <td>1.50</td>\n",
       "    </tr>\n",
       "    <tr>\n",
       "      <th>1</th>\n",
       "      <td>Powerset</td>\n",
       "      <td>San Francisco</td>\n",
       "      <td>37.778613</td>\n",
       "      <td>-122.395289</td>\n",
       "      <td>7</td>\n",
       "      <td>14</td>\n",
       "      <td>2</td>\n",
       "      <td>3</td>\n",
       "      <td>3</td>\n",
       "      <td>1</td>\n",
       "      <td>2</td>\n",
       "      <td>1</td>\n",
       "      <td>1</td>\n",
       "      <td>3</td>\n",
       "      <td>0.25</td>\n",
       "      <td>0.50</td>\n",
       "      <td>0.25</td>\n",
       "      <td>0.25</td>\n",
       "      <td>0.75</td>\n",
       "      <td>2.00</td>\n",
       "    </tr>\n",
       "    <tr>\n",
       "      <th>2</th>\n",
       "      <td>CastTV</td>\n",
       "      <td>San Francisco</td>\n",
       "      <td>37.780716</td>\n",
       "      <td>-122.393913</td>\n",
       "      <td>6</td>\n",
       "      <td>13</td>\n",
       "      <td>0</td>\n",
       "      <td>0</td>\n",
       "      <td>3</td>\n",
       "      <td>1</td>\n",
       "      <td>2</td>\n",
       "      <td>0</td>\n",
       "      <td>0</td>\n",
       "      <td>3</td>\n",
       "      <td>0.25</td>\n",
       "      <td>0.50</td>\n",
       "      <td>0.00</td>\n",
       "      <td>0.00</td>\n",
       "      <td>0.75</td>\n",
       "      <td>1.50</td>\n",
       "    </tr>\n",
       "    <tr>\n",
       "      <th>3</th>\n",
       "      <td>Grockit</td>\n",
       "      <td>San Francisco</td>\n",
       "      <td>37.775196</td>\n",
       "      <td>-122.419204</td>\n",
       "      <td>30</td>\n",
       "      <td>15</td>\n",
       "      <td>28</td>\n",
       "      <td>25</td>\n",
       "      <td>0</td>\n",
       "      <td>3</td>\n",
       "      <td>2</td>\n",
       "      <td>3</td>\n",
       "      <td>3</td>\n",
       "      <td>0</td>\n",
       "      <td>0.75</td>\n",
       "      <td>0.50</td>\n",
       "      <td>0.75</td>\n",
       "      <td>0.75</td>\n",
       "      <td>0.00</td>\n",
       "      <td>2.75</td>\n",
       "    </tr>\n",
       "    <tr>\n",
       "      <th>4</th>\n",
       "      <td>Dropbox</td>\n",
       "      <td>San Francisco</td>\n",
       "      <td>37.790943</td>\n",
       "      <td>-122.408499</td>\n",
       "      <td>8</td>\n",
       "      <td>14</td>\n",
       "      <td>7</td>\n",
       "      <td>5</td>\n",
       "      <td>0</td>\n",
       "      <td>1</td>\n",
       "      <td>2</td>\n",
       "      <td>1</td>\n",
       "      <td>1</td>\n",
       "      <td>0</td>\n",
       "      <td>0.25</td>\n",
       "      <td>0.50</td>\n",
       "      <td>0.25</td>\n",
       "      <td>0.25</td>\n",
       "      <td>0.00</td>\n",
       "      <td>1.25</td>\n",
       "    </tr>\n",
       "  </tbody>\n",
       "</table>\n",
       "</div>"
      ],
      "text/plain": [
       "    company           city   latitude   longitude  party  starbucks  school  \\\n",
       "0      Digg  San Francisco  37.764726 -122.394523      7          4       0   \n",
       "1  Powerset  San Francisco  37.778613 -122.395289      7         14       2   \n",
       "2    CastTV  San Francisco  37.780716 -122.393913      6         13       0   \n",
       "3   Grockit  San Francisco  37.775196 -122.419204     30         15      28   \n",
       "4   Dropbox  San Francisco  37.790943 -122.408499      8         14       7   \n",
       "\n",
       "   vegan  basket  party_grades  starbucks_grades  school_grades  vegan_grades  \\\n",
       "0      1       3             1                 1              0             1   \n",
       "1      3       3             1                 2              1             1   \n",
       "2      0       3             1                 2              0             0   \n",
       "3     25       0             3                 2              3             3   \n",
       "4      5       0             1                 2              1             1   \n",
       "\n",
       "   basket_grades  weighted_party_grades  weighted_starbucks_grades  \\\n",
       "0              3                   0.25                       0.25   \n",
       "1              3                   0.25                       0.50   \n",
       "2              3                   0.25                       0.50   \n",
       "3              0                   0.75                       0.50   \n",
       "4              0                   0.25                       0.50   \n",
       "\n",
       "   weighted_school_grades  weighted_vegan_grades  weighted_basket_grades  \\\n",
       "0                    0.00                   0.25                    0.75   \n",
       "1                    0.25                   0.25                    0.75   \n",
       "2                    0.00                   0.00                    0.75   \n",
       "3                    0.75                   0.75                    0.00   \n",
       "4                    0.25                   0.25                    0.00   \n",
       "\n",
       "   weighted_result  \n",
       "0             1.50  \n",
       "1             2.00  \n",
       "2             1.50  \n",
       "3             2.75  \n",
       "4             1.25  "
      ]
     },
     "execution_count": 45,
     "metadata": {},
     "output_type": "execute_result"
    }
   ],
   "source": [
    "df_loc.head()"
   ]
  },
  {
   "cell_type": "code",
   "execution_count": 46,
   "id": "df435bc2",
   "metadata": {},
   "outputs": [
    {
     "data": {
      "text/plain": [
       "3.0"
      ]
     },
     "execution_count": 46,
     "metadata": {},
     "output_type": "execute_result"
    }
   ],
   "source": [
    "df_loc.weighted_result.max()"
   ]
  },
  {
   "cell_type": "code",
   "execution_count": 47,
   "id": "a3a3e884",
   "metadata": {},
   "outputs": [],
   "source": [
    "df_ = [df_loc['weighted_result'] == df_loc.weighted_result.max()]"
   ]
  },
  {
   "cell_type": "code",
   "execution_count": 48,
   "id": "484ad76c",
   "metadata": {},
   "outputs": [],
   "source": [
    "is_max = df_loc.loc[:, \"weighted_result\"] == df_loc.weighted_result.max()\n",
    "df_final = df_loc.loc[is_max]"
   ]
  },
  {
   "cell_type": "code",
   "execution_count": 49,
   "id": "eac7c76d",
   "metadata": {},
   "outputs": [
    {
     "data": {
      "text/html": [
       "<div>\n",
       "<style scoped>\n",
       "    .dataframe tbody tr th:only-of-type {\n",
       "        vertical-align: middle;\n",
       "    }\n",
       "\n",
       "    .dataframe tbody tr th {\n",
       "        vertical-align: top;\n",
       "    }\n",
       "\n",
       "    .dataframe thead th {\n",
       "        text-align: right;\n",
       "    }\n",
       "</style>\n",
       "<table border=\"1\" class=\"dataframe\">\n",
       "  <thead>\n",
       "    <tr style=\"text-align: right;\">\n",
       "      <th></th>\n",
       "      <th>company</th>\n",
       "      <th>city</th>\n",
       "      <th>latitude</th>\n",
       "      <th>longitude</th>\n",
       "      <th>party</th>\n",
       "      <th>starbucks</th>\n",
       "      <th>school</th>\n",
       "      <th>vegan</th>\n",
       "      <th>basket</th>\n",
       "      <th>party_grades</th>\n",
       "      <th>starbucks_grades</th>\n",
       "      <th>school_grades</th>\n",
       "      <th>vegan_grades</th>\n",
       "      <th>basket_grades</th>\n",
       "      <th>weighted_party_grades</th>\n",
       "      <th>weighted_starbucks_grades</th>\n",
       "      <th>weighted_school_grades</th>\n",
       "      <th>weighted_vegan_grades</th>\n",
       "      <th>weighted_basket_grades</th>\n",
       "      <th>weighted_result</th>\n",
       "    </tr>\n",
       "  </thead>\n",
       "  <tbody>\n",
       "    <tr>\n",
       "      <th>33</th>\n",
       "      <td>Box UK</td>\n",
       "      <td>London</td>\n",
       "      <td>51.510774</td>\n",
       "      <td>-0.139245</td>\n",
       "      <td>27</td>\n",
       "      <td>23</td>\n",
       "      <td>24</td>\n",
       "      <td>26</td>\n",
       "      <td>0</td>\n",
       "      <td>3</td>\n",
       "      <td>3</td>\n",
       "      <td>3</td>\n",
       "      <td>3</td>\n",
       "      <td>0</td>\n",
       "      <td>0.75</td>\n",
       "      <td>0.75</td>\n",
       "      <td>0.75</td>\n",
       "      <td>0.75</td>\n",
       "      <td>0.0</td>\n",
       "      <td>3.0</td>\n",
       "    </tr>\n",
       "  </tbody>\n",
       "</table>\n",
       "</div>"
      ],
      "text/plain": [
       "   company    city   latitude  longitude  party  starbucks  school  vegan  \\\n",
       "33  Box UK  London  51.510774  -0.139245     27         23      24     26   \n",
       "\n",
       "    basket  party_grades  starbucks_grades  school_grades  vegan_grades  \\\n",
       "33       0             3                 3              3             3   \n",
       "\n",
       "    basket_grades  weighted_party_grades  weighted_starbucks_grades  \\\n",
       "33              0                   0.75                       0.75   \n",
       "\n",
       "    weighted_school_grades  weighted_vegan_grades  weighted_basket_grades  \\\n",
       "33                    0.75                   0.75                     0.0   \n",
       "\n",
       "    weighted_result  \n",
       "33              3.0  "
      ]
     },
     "execution_count": 49,
     "metadata": {},
     "output_type": "execute_result"
    }
   ],
   "source": [
    "df_final"
   ]
  },
  {
   "cell_type": "code",
   "execution_count": 58,
   "id": "d647cb44",
   "metadata": {},
   "outputs": [],
   "source": [
    "coordinates = [list(df_final['latitude'])[0],list(df_final['longitude'])[0]]"
   ]
  },
  {
   "cell_type": "code",
   "execution_count": 59,
   "id": "cfdc47c2",
   "metadata": {},
   "outputs": [
    {
     "data": {
      "text/plain": [
       "[51.5107737, -0.1392447]"
      ]
     },
     "execution_count": 59,
     "metadata": {},
     "output_type": "execute_result"
    }
   ],
   "source": [
    "coordinates"
   ]
  },
  {
   "cell_type": "code",
   "execution_count": 67,
   "id": "72932fdc",
   "metadata": {},
   "outputs": [],
   "source": [
    "london = {'type': 'Point', 'coordinates': [51.509865, -0.118092]}\n",
    "map_lnd = Map(location=london['coordinates'],zoom_start=15)"
   ]
  },
  {
   "cell_type": "code",
   "execution_count": 68,
   "id": "1546d1bd",
   "metadata": {},
   "outputs": [],
   "source": [
    "icono = Icon(color = \"blue\",\n",
    "             prefix = \"fa\",\n",
    "             icon = \"trophy\",\n",
    "             icon_color = \"black\")\n",
    "\n",
    "loc = {\"location\": coordinates,\n",
    "      \"tooltip\": \"Gaming Company\"}"
   ]
  },
  {
   "cell_type": "code",
   "execution_count": 69,
   "id": "06f5fc1e",
   "metadata": {},
   "outputs": [],
   "source": [
    "marker_company = Marker(**loc, icon = icono)"
   ]
  },
  {
   "cell_type": "code",
   "execution_count": 70,
   "id": "4b90a65e",
   "metadata": {},
   "outputs": [
    {
     "data": {
      "text/html": [
       "<div style=\"width:100%;\"><div style=\"position:relative;width:100%;height:0;padding-bottom:60%;\"><span style=\"color:#565656\">Make this Notebook Trusted to load map: File -> Trust Notebook</span><iframe src=\"about:blank\" style=\"position:absolute;width:100%;height:100%;left:0;top:0;border:none !important;\" data-html=%3C%21DOCTYPE%20html%3E%0A%3Chead%3E%20%20%20%20%0A%20%20%20%20%3Cmeta%20http-equiv%3D%22content-type%22%20content%3D%22text/html%3B%20charset%3DUTF-8%22%20/%3E%0A%20%20%20%20%0A%20%20%20%20%20%20%20%20%3Cscript%3E%0A%20%20%20%20%20%20%20%20%20%20%20%20L_NO_TOUCH%20%3D%20false%3B%0A%20%20%20%20%20%20%20%20%20%20%20%20L_DISABLE_3D%20%3D%20false%3B%0A%20%20%20%20%20%20%20%20%3C/script%3E%0A%20%20%20%20%0A%20%20%20%20%3Cstyle%3Ehtml%2C%20body%20%7Bwidth%3A%20100%25%3Bheight%3A%20100%25%3Bmargin%3A%200%3Bpadding%3A%200%3B%7D%3C/style%3E%0A%20%20%20%20%3Cstyle%3E%23map%20%7Bposition%3Aabsolute%3Btop%3A0%3Bbottom%3A0%3Bright%3A0%3Bleft%3A0%3B%7D%3C/style%3E%0A%20%20%20%20%3Cscript%20src%3D%22https%3A//cdn.jsdelivr.net/npm/leaflet%401.6.0/dist/leaflet.js%22%3E%3C/script%3E%0A%20%20%20%20%3Cscript%20src%3D%22https%3A//code.jquery.com/jquery-1.12.4.min.js%22%3E%3C/script%3E%0A%20%20%20%20%3Cscript%20src%3D%22https%3A//maxcdn.bootstrapcdn.com/bootstrap/3.2.0/js/bootstrap.min.js%22%3E%3C/script%3E%0A%20%20%20%20%3Cscript%20src%3D%22https%3A//cdnjs.cloudflare.com/ajax/libs/Leaflet.awesome-markers/2.0.2/leaflet.awesome-markers.js%22%3E%3C/script%3E%0A%20%20%20%20%3Clink%20rel%3D%22stylesheet%22%20href%3D%22https%3A//cdn.jsdelivr.net/npm/leaflet%401.6.0/dist/leaflet.css%22/%3E%0A%20%20%20%20%3Clink%20rel%3D%22stylesheet%22%20href%3D%22https%3A//maxcdn.bootstrapcdn.com/bootstrap/3.2.0/css/bootstrap.min.css%22/%3E%0A%20%20%20%20%3Clink%20rel%3D%22stylesheet%22%20href%3D%22https%3A//maxcdn.bootstrapcdn.com/bootstrap/3.2.0/css/bootstrap-theme.min.css%22/%3E%0A%20%20%20%20%3Clink%20rel%3D%22stylesheet%22%20href%3D%22https%3A//maxcdn.bootstrapcdn.com/font-awesome/4.6.3/css/font-awesome.min.css%22/%3E%0A%20%20%20%20%3Clink%20rel%3D%22stylesheet%22%20href%3D%22https%3A//cdnjs.cloudflare.com/ajax/libs/Leaflet.awesome-markers/2.0.2/leaflet.awesome-markers.css%22/%3E%0A%20%20%20%20%3Clink%20rel%3D%22stylesheet%22%20href%3D%22https%3A//cdn.jsdelivr.net/gh/python-visualization/folium/folium/templates/leaflet.awesome.rotate.min.css%22/%3E%0A%20%20%20%20%0A%20%20%20%20%20%20%20%20%20%20%20%20%3Cmeta%20name%3D%22viewport%22%20content%3D%22width%3Ddevice-width%2C%0A%20%20%20%20%20%20%20%20%20%20%20%20%20%20%20%20initial-scale%3D1.0%2C%20maximum-scale%3D1.0%2C%20user-scalable%3Dno%22%20/%3E%0A%20%20%20%20%20%20%20%20%20%20%20%20%3Cstyle%3E%0A%20%20%20%20%20%20%20%20%20%20%20%20%20%20%20%20%23map_6069a32fb5284e9096e37c9669999e48%20%7B%0A%20%20%20%20%20%20%20%20%20%20%20%20%20%20%20%20%20%20%20%20position%3A%20relative%3B%0A%20%20%20%20%20%20%20%20%20%20%20%20%20%20%20%20%20%20%20%20width%3A%20100.0%25%3B%0A%20%20%20%20%20%20%20%20%20%20%20%20%20%20%20%20%20%20%20%20height%3A%20100.0%25%3B%0A%20%20%20%20%20%20%20%20%20%20%20%20%20%20%20%20%20%20%20%20left%3A%200.0%25%3B%0A%20%20%20%20%20%20%20%20%20%20%20%20%20%20%20%20%20%20%20%20top%3A%200.0%25%3B%0A%20%20%20%20%20%20%20%20%20%20%20%20%20%20%20%20%7D%0A%20%20%20%20%20%20%20%20%20%20%20%20%3C/style%3E%0A%20%20%20%20%20%20%20%20%0A%3C/head%3E%0A%3Cbody%3E%20%20%20%20%0A%20%20%20%20%0A%20%20%20%20%20%20%20%20%20%20%20%20%3Cdiv%20class%3D%22folium-map%22%20id%3D%22map_6069a32fb5284e9096e37c9669999e48%22%20%3E%3C/div%3E%0A%20%20%20%20%20%20%20%20%0A%3C/body%3E%0A%3Cscript%3E%20%20%20%20%0A%20%20%20%20%0A%20%20%20%20%20%20%20%20%20%20%20%20var%20map_6069a32fb5284e9096e37c9669999e48%20%3D%20L.map%28%0A%20%20%20%20%20%20%20%20%20%20%20%20%20%20%20%20%22map_6069a32fb5284e9096e37c9669999e48%22%2C%0A%20%20%20%20%20%20%20%20%20%20%20%20%20%20%20%20%7B%0A%20%20%20%20%20%20%20%20%20%20%20%20%20%20%20%20%20%20%20%20center%3A%20%5B51.509865%2C%20-0.118092%5D%2C%0A%20%20%20%20%20%20%20%20%20%20%20%20%20%20%20%20%20%20%20%20crs%3A%20L.CRS.EPSG3857%2C%0A%20%20%20%20%20%20%20%20%20%20%20%20%20%20%20%20%20%20%20%20zoom%3A%2015%2C%0A%20%20%20%20%20%20%20%20%20%20%20%20%20%20%20%20%20%20%20%20zoomControl%3A%20true%2C%0A%20%20%20%20%20%20%20%20%20%20%20%20%20%20%20%20%20%20%20%20preferCanvas%3A%20false%2C%0A%20%20%20%20%20%20%20%20%20%20%20%20%20%20%20%20%7D%0A%20%20%20%20%20%20%20%20%20%20%20%20%29%3B%0A%0A%20%20%20%20%20%20%20%20%20%20%20%20%0A%0A%20%20%20%20%20%20%20%20%0A%20%20%20%20%0A%20%20%20%20%20%20%20%20%20%20%20%20var%20tile_layer_f3fda768c09e4bad9931b4414020d562%20%3D%20L.tileLayer%28%0A%20%20%20%20%20%20%20%20%20%20%20%20%20%20%20%20%22https%3A//%7Bs%7D.tile.openstreetmap.org/%7Bz%7D/%7Bx%7D/%7By%7D.png%22%2C%0A%20%20%20%20%20%20%20%20%20%20%20%20%20%20%20%20%7B%22attribution%22%3A%20%22Data%20by%20%5Cu0026copy%3B%20%5Cu003ca%20href%3D%5C%22http%3A//openstreetmap.org%5C%22%5Cu003eOpenStreetMap%5Cu003c/a%5Cu003e%2C%20under%20%5Cu003ca%20href%3D%5C%22http%3A//www.openstreetmap.org/copyright%5C%22%5Cu003eODbL%5Cu003c/a%5Cu003e.%22%2C%20%22detectRetina%22%3A%20false%2C%20%22maxNativeZoom%22%3A%2018%2C%20%22maxZoom%22%3A%2018%2C%20%22minZoom%22%3A%200%2C%20%22noWrap%22%3A%20false%2C%20%22opacity%22%3A%201%2C%20%22subdomains%22%3A%20%22abc%22%2C%20%22tms%22%3A%20false%7D%0A%20%20%20%20%20%20%20%20%20%20%20%20%29.addTo%28map_6069a32fb5284e9096e37c9669999e48%29%3B%0A%20%20%20%20%20%20%20%20%0A%20%20%20%20%0A%20%20%20%20%20%20%20%20%20%20%20%20var%20marker_25ffe3c8f7524ebc9578d4c3d002a993%20%3D%20L.marker%28%0A%20%20%20%20%20%20%20%20%20%20%20%20%20%20%20%20%5B51.5107737%2C%20-0.1392447%5D%2C%0A%20%20%20%20%20%20%20%20%20%20%20%20%20%20%20%20%7B%7D%0A%20%20%20%20%20%20%20%20%20%20%20%20%29.addTo%28map_6069a32fb5284e9096e37c9669999e48%29%3B%0A%20%20%20%20%20%20%20%20%0A%20%20%20%20%0A%20%20%20%20%20%20%20%20%20%20%20%20var%20icon_4c481083e03c43f19059012b4358caab%20%3D%20L.AwesomeMarkers.icon%28%0A%20%20%20%20%20%20%20%20%20%20%20%20%20%20%20%20%7B%22extraClasses%22%3A%20%22fa-rotate-0%22%2C%20%22icon%22%3A%20%22trophy%22%2C%20%22iconColor%22%3A%20%22black%22%2C%20%22markerColor%22%3A%20%22blue%22%2C%20%22prefix%22%3A%20%22fa%22%7D%0A%20%20%20%20%20%20%20%20%20%20%20%20%29%3B%0A%20%20%20%20%20%20%20%20%20%20%20%20marker_25ffe3c8f7524ebc9578d4c3d002a993.setIcon%28icon_4c481083e03c43f19059012b4358caab%29%3B%0A%20%20%20%20%20%20%20%20%0A%20%20%20%20%0A%20%20%20%20%20%20%20%20%20%20%20%20marker_25ffe3c8f7524ebc9578d4c3d002a993.bindTooltip%28%0A%20%20%20%20%20%20%20%20%20%20%20%20%20%20%20%20%60%3Cdiv%3E%0A%20%20%20%20%20%20%20%20%20%20%20%20%20%20%20%20%20%20%20%20%20Gaming%20Company%0A%20%20%20%20%20%20%20%20%20%20%20%20%20%20%20%20%20%3C/div%3E%60%2C%0A%20%20%20%20%20%20%20%20%20%20%20%20%20%20%20%20%7B%22sticky%22%3A%20true%7D%0A%20%20%20%20%20%20%20%20%20%20%20%20%29%3B%0A%20%20%20%20%20%20%20%20%0A%3C/script%3E onload=\"this.contentDocument.open();this.contentDocument.write(    decodeURIComponent(this.getAttribute('data-html')));this.contentDocument.close();\" allowfullscreen webkitallowfullscreen mozallowfullscreen></iframe></div></div>"
      ],
      "text/plain": [
       "<folium.folium.Map at 0x7fc307038f70>"
      ]
     },
     "execution_count": 70,
     "metadata": {},
     "output_type": "execute_result"
    }
   ],
   "source": [
    "marker_company.add_to(map_lnd)\n",
    "map_lnd"
   ]
  },
  {
   "cell_type": "code",
   "execution_count": null,
   "id": "6b1c2a89",
   "metadata": {},
   "outputs": [],
   "source": []
  }
 ],
 "metadata": {
  "kernelspec": {
   "display_name": "ironhack",
   "language": "python",
   "name": "ironhack"
  },
  "language_info": {
   "codemirror_mode": {
    "name": "ipython",
    "version": 3
   },
   "file_extension": ".py",
   "mimetype": "text/x-python",
   "name": "python",
   "nbconvert_exporter": "python",
   "pygments_lexer": "ipython3",
   "version": "3.8.8"
  }
 },
 "nbformat": 4,
 "nbformat_minor": 5
}
