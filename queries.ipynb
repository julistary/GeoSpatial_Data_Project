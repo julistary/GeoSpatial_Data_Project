{
 "cells": [
  {
   "cell_type": "code",
   "execution_count": 1,
   "metadata": {},
   "outputs": [],
   "source": [
    "import re\n",
    "import pandas as pd\n",
    "import numpy as np\n",
    "import src.functions as f\n",
    "from pymongo import MongoClient\n",
    "client = MongoClient(\"localhost:27017\")"
   ]
  },
  {
   "cell_type": "code",
   "execution_count": 2,
   "metadata": {},
   "outputs": [],
   "source": [
    "db = client.get_database(\"ironhack\")"
   ]
  },
  {
   "cell_type": "code",
   "execution_count": 3,
   "metadata": {},
   "outputs": [],
   "source": [
    "companies = db.get_collection(\"companies\")"
   ]
  },
  {
   "cell_type": "markdown",
   "metadata": {},
   "source": [
    "All the companies dedicated to design"
   ]
  },
  {
   "cell_type": "markdown",
   "metadata": {},
   "source": [
    "All the tech companies that have raised at least 1 Million dollars"
   ]
  },
  {
   "cell_type": "code",
   "execution_count": 4,
   "metadata": {},
   "outputs": [],
   "source": [
    "query_1 = {'$and' : [{\"tag_list\" : {'$regex':'design'}}, {\"tag_list\" : {'$regex':'(?s)^((?!fashion).)*'}}]}\n",
    "query_2 = {'$and' : [{\"total_money_raised\" : {'$regex':'M'}},{\"tag_list\" : {'$regex':'tech'}}]}\n",
    "proj = {'name': 1, '_id': 0, 'total_money_raised' : 1, 'offices.city' : 1, 'offices.latitude': 1, 'offices.longitude': 1}\n",
    "companies_filtered = list(companies.find({'$or' : [query_2, query_1]}, proj))"
   ]
  },
  {
   "cell_type": "code",
   "execution_count": 5,
   "metadata": {},
   "outputs": [
    {
     "data": {
      "text/plain": [
       "{'name': 'Digg',\n",
       " 'total_money_raised': '$45M',\n",
       " 'offices': [{'city': 'San Francisco',\n",
       "   'latitude': 37.764726,\n",
       "   'longitude': -122.394523}]}"
      ]
     },
     "execution_count": 5,
     "metadata": {},
     "output_type": "execute_result"
    }
   ],
   "source": [
    "companies_filtered[0]"
   ]
  },
  {
   "cell_type": "code",
   "execution_count": 6,
   "metadata": {},
   "outputs": [],
   "source": [
    "name = []\n",
    "city = []\n",
    "latitude = []\n",
    "longitude = []\n",
    "for i in companies_filtered:\n",
    "    name.append(i['name'])\n",
    "    try: \n",
    "        if i['offices'][0]['city'] == '':\n",
    "            city.append(np.nan)\n",
    "        else:\n",
    "            city.append(i['offices'][0]['city'])\n",
    "        latitude.append(i['offices'][0]['latitude'])\n",
    "        longitude.append(i['offices'][0]['longitude'])\n",
    "    except:\n",
    "        city.append(np.nan)\n",
    "        latitude.append(np.nan)\n",
    "        longitude.append(np.nan)\n",
    "        \n"
   ]
  },
  {
   "cell_type": "code",
   "execution_count": 16,
   "metadata": {},
   "outputs": [],
   "source": [
    "dict_ = {'company' : name, 'city' : city, 'latitude' : latitude, 'longitude': longitude}"
   ]
  },
  {
   "cell_type": "code",
   "execution_count": 8,
   "metadata": {},
   "outputs": [],
   "source": [
    "companies_df = pd.DataFrame.from_dict(dict_, orient='columns')"
   ]
  },
  {
   "cell_type": "code",
   "execution_count": 9,
   "metadata": {},
   "outputs": [],
   "source": [
    "dict_of_cities = f.vc_to_dict(companies_df.city)"
   ]
  },
  {
   "cell_type": "code",
   "execution_count": 10,
   "metadata": {},
   "outputs": [],
   "source": [
    "cities = f.subdata(11,dict_of_cities)"
   ]
  },
  {
   "cell_type": "code",
   "execution_count": 11,
   "metadata": {},
   "outputs": [
    {
     "data": {
      "text/plain": [
       "['San Francisco', 'New York', 'London']"
      ]
     },
     "execution_count": 11,
     "metadata": {},
     "output_type": "execute_result"
    }
   ],
   "source": [
    "cities"
   ]
  },
  {
   "cell_type": "code",
   "execution_count": 12,
   "metadata": {},
   "outputs": [],
   "source": [
    "df = f.create(companies_df,'city',cities)"
   ]
  },
  {
   "cell_type": "code",
   "execution_count": 13,
   "metadata": {},
   "outputs": [
    {
     "data": {
      "text/html": [
       "<div>\n",
       "<style scoped>\n",
       "    .dataframe tbody tr th:only-of-type {\n",
       "        vertical-align: middle;\n",
       "    }\n",
       "\n",
       "    .dataframe tbody tr th {\n",
       "        vertical-align: top;\n",
       "    }\n",
       "\n",
       "    .dataframe thead th {\n",
       "        text-align: right;\n",
       "    }\n",
       "</style>\n",
       "<table border=\"1\" class=\"dataframe\">\n",
       "  <thead>\n",
       "    <tr style=\"text-align: right;\">\n",
       "      <th></th>\n",
       "      <th>company</th>\n",
       "      <th>city</th>\n",
       "      <th>latitude</th>\n",
       "      <th>longitude</th>\n",
       "    </tr>\n",
       "  </thead>\n",
       "  <tbody>\n",
       "    <tr>\n",
       "      <th>0</th>\n",
       "      <td>Digg</td>\n",
       "      <td>San Francisco</td>\n",
       "      <td>37.764726</td>\n",
       "      <td>-122.394523</td>\n",
       "    </tr>\n",
       "    <tr>\n",
       "      <th>1</th>\n",
       "      <td>Powerset</td>\n",
       "      <td>San Francisco</td>\n",
       "      <td>37.778613</td>\n",
       "      <td>-122.395289</td>\n",
       "    </tr>\n",
       "    <tr>\n",
       "      <th>2</th>\n",
       "      <td>CastTV</td>\n",
       "      <td>San Francisco</td>\n",
       "      <td>37.780716</td>\n",
       "      <td>-122.393913</td>\n",
       "    </tr>\n",
       "    <tr>\n",
       "      <th>4</th>\n",
       "      <td>Grockit</td>\n",
       "      <td>San Francisco</td>\n",
       "      <td>37.775196</td>\n",
       "      <td>-122.419204</td>\n",
       "    </tr>\n",
       "    <tr>\n",
       "      <th>8</th>\n",
       "      <td>Wikia</td>\n",
       "      <td>San Francisco</td>\n",
       "      <td>NaN</td>\n",
       "      <td>NaN</td>\n",
       "    </tr>\n",
       "    <tr>\n",
       "      <th>...</th>\n",
       "      <td>...</td>\n",
       "      <td>...</td>\n",
       "      <td>...</td>\n",
       "      <td>...</td>\n",
       "    </tr>\n",
       "    <tr>\n",
       "      <th>737</th>\n",
       "      <td>Synesis IT</td>\n",
       "      <td>New York</td>\n",
       "      <td>40.748873</td>\n",
       "      <td>-73.987106</td>\n",
       "    </tr>\n",
       "    <tr>\n",
       "      <th>740</th>\n",
       "      <td>Ramp Up Tech</td>\n",
       "      <td>New York</td>\n",
       "      <td>40.746514</td>\n",
       "      <td>-73.993035</td>\n",
       "    </tr>\n",
       "    <tr>\n",
       "      <th>779</th>\n",
       "      <td>OpTier</td>\n",
       "      <td>New York</td>\n",
       "      <td>40.754937</td>\n",
       "      <td>-73.985647</td>\n",
       "    </tr>\n",
       "    <tr>\n",
       "      <th>787</th>\n",
       "      <td>Mobile Interactive Group</td>\n",
       "      <td>London</td>\n",
       "      <td>NaN</td>\n",
       "      <td>NaN</td>\n",
       "    </tr>\n",
       "    <tr>\n",
       "      <th>793</th>\n",
       "      <td>New Toy</td>\n",
       "      <td>London</td>\n",
       "      <td>NaN</td>\n",
       "      <td>NaN</td>\n",
       "    </tr>\n",
       "  </tbody>\n",
       "</table>\n",
       "<p>76 rows × 4 columns</p>\n",
       "</div>"
      ],
      "text/plain": [
       "                      company           city   latitude   longitude\n",
       "0                        Digg  San Francisco  37.764726 -122.394523\n",
       "1                    Powerset  San Francisco  37.778613 -122.395289\n",
       "2                      CastTV  San Francisco  37.780716 -122.393913\n",
       "4                     Grockit  San Francisco  37.775196 -122.419204\n",
       "8                       Wikia  San Francisco        NaN         NaN\n",
       "..                        ...            ...        ...         ...\n",
       "737                Synesis IT       New York  40.748873  -73.987106\n",
       "740              Ramp Up Tech       New York  40.746514  -73.993035\n",
       "779                    OpTier       New York  40.754937  -73.985647\n",
       "787  Mobile Interactive Group         London        NaN         NaN\n",
       "793                   New Toy         London        NaN         NaN\n",
       "\n",
       "[76 rows x 4 columns]"
      ]
     },
     "execution_count": 13,
     "metadata": {},
     "output_type": "execute_result"
    }
   ],
   "source": [
    "df"
   ]
  },
  {
   "cell_type": "code",
   "execution_count": 15,
   "metadata": {},
   "outputs": [],
   "source": [
    "df.to_csv(\"data/df.csv\")"
   ]
  },
  {
   "cell_type": "code",
   "execution_count": null,
   "metadata": {},
   "outputs": [],
   "source": []
  }
 ],
 "metadata": {
  "kernelspec": {
   "display_name": "ironhack",
   "language": "python",
   "name": "ironhack"
  },
  "language_info": {
   "codemirror_mode": {
    "name": "ipython",
    "version": 3
   },
   "file_extension": ".py",
   "mimetype": "text/x-python",
   "name": "python",
   "nbconvert_exporter": "python",
   "pygments_lexer": "ipython3",
   "version": "3.8.8"
  }
 },
 "nbformat": 4,
 "nbformat_minor": 4
}
