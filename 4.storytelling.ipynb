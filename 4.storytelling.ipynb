{
 "cells": [
  {
   "cell_type": "markdown",
   "metadata": {},
   "source": [
    "# Storytelling 🗺"
   ]
  },
  {
   "cell_type": "markdown",
   "metadata": {},
   "source": [
    "<img width=400 src=https://media.giphy.com/media/Kx7HO28xRu1cG8S3GB/giphy.gif>"
   ]
  },
  {
   "cell_type": "markdown",
   "metadata": {},
   "source": [
    "The objective of the project is to select the location of a `gaming company` offices with the following structure:\n",
    "* 20 Designers\n",
    "* 5 UI/UX Engineers\n",
    "* 10 Frontend Developers\n",
    "* 15 Data Engineers\n",
    "* 5 Backend Developers\n",
    "* 20 Account Managers\n",
    "* 1 Maintenance guy that loves basketball\n",
    "* 10 Executives\n",
    "* 1 CEO/President\n",
    "\n",
    "The location has to cover more or less this requirements:\n",
    "\n",
    "* Designers like to go to design talks and share knowledge. There must be some nearby companies that also do design.\n",
    "* 30% of the company staff have at least 1 child.\n",
    "* Developers like to be near successful tech startups that have raised at least 1 Million dollars.\n",
    "* Executives like Starbucks A LOT. Ensure there's a starbucks not too far.\n",
    "* Account managers need to travel a lot.\n",
    "* Everyone in the company is between 25 and 40, give them some place to go party.\n",
    "* The CEO is vegan.\n",
    "* If you want to make the maintenance guy happy, a basketball stadium must be around 10 Km.\n",
    "* The office dog—\"Dobby\" needs a hairdresser every month. Ensure there's one not too far away."
   ]
  },
  {
   "cell_type": "markdown",
   "metadata": {},
   "source": [
    "The final location will be the location of an existing company. \n",
    "\n",
    "To find the ideal location, the first decision to make is in which city it will be situated. 🏙\n",
    "\n",
    "From a list of 18.8K companies, design and tech startups with a high net worth are selected. \n",
    " Once this pre-selection is done, the cities chosen will be the top 3 cities with the highest number of companies. "
   ]
  },
  {
   "cell_type": "markdown",
   "metadata": {},
   "source": [
    "#### 🏆🏆 The selected cities are `San Francisco`, `New York` and `London` 🏆🏆"
   ]
  },
  {
   "cell_type": "markdown",
   "metadata": {},
   "source": [
    "<img width=400 src=\"screenshots/city1.png\">\n",
    "<img width=400 src=\"screenshots/city2.png\">\n",
    "<img width=400 src=\"screenshots/city3.png\">"
   ]
  },
  {
   "cell_type": "markdown",
   "metadata": {},
   "source": [
    "Then, (thanks to the foursquare API) the `starbucks`, `colleges`, `clubs`, `basketball courts` and `vegans` in the 3 cities are located  \n",
    "🏀⛹️‍♂️⛹️‍♀️🥂🎉🥑🍔☕🧜‍♀️🚌🎓"
   ]
  },
  {
   "cell_type": "markdown",
   "metadata": {},
   "source": [
    "Unfortunately, Dobby's preferences cannot be satisfied. 🐶 \n",
    "As the three cities are very well connected, it is assumed that it is easy for account managers to travel. ✈️🚊"
   ]
  },
  {
   "cell_type": "markdown",
   "metadata": {},
   "source": [
    "Once all these sites located, for each selected company in the 3 cities, it is looked at how many of these sites there are nearby. "
   ]
  },
  {
   "cell_type": "markdown",
   "metadata": {},
   "source": [
    "And the coordinates of the winning location are... 🥁 🥁\n",
    "\n",
    "`[51.5107737, -0.1392447]`🏆🏆"
   ]
  },
  {
   "cell_type": "markdown",
   "metadata": {},
   "source": [
    "<img width=600 src=\"screenshots/final.png\">"
   ]
  },
  {
   "cell_type": "markdown",
   "metadata": {},
   "source": [
    "- White: Gaming Company\n",
    "- Green: starbucks\n",
    "- Blue: vegans\n",
    "- Pink: clubs\n",
    "- Red: schools"
   ]
  },
  {
   "cell_type": "markdown",
   "metadata": {},
   "source": [
    "<img width=600 src=\"screenshots/kepler_final.png\">"
   ]
  },
  {
   "cell_type": "code",
   "execution_count": null,
   "metadata": {},
   "outputs": [],
   "source": []
  }
 ],
 "metadata": {
  "kernelspec": {
   "display_name": "ironhack",
   "language": "python",
   "name": "ironhack"
  },
  "language_info": {
   "codemirror_mode": {
    "name": "ipython",
    "version": 3
   },
   "file_extension": ".py",
   "mimetype": "text/x-python",
   "name": "python",
   "nbconvert_exporter": "python",
   "pygments_lexer": "ipython3",
   "version": "3.8.8"
  }
 },
 "nbformat": 4,
 "nbformat_minor": 4
}
